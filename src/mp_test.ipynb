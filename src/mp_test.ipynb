{
 "cells": [
  {
   "cell_type": "code",
   "execution_count": 1,
   "metadata": {},
   "outputs": [],
   "source": [
    "import multiprocessing as mp\n",
    "import time"
   ]
  },
  {
   "cell_type": "code",
   "execution_count": 2,
   "metadata": {},
   "outputs": [],
   "source": [
    "def sumSquare(numList):\n",
    "    sumSq=0\n",
    "    for i in numList:\n",
    "        sumSq += i*i\n",
    "    time.sleep(5)\n",
    "    return sumSq\n",
    "\n",
    "def print_square(num): \n",
    "    \"\"\" \n",
    "    function to print square of given num \n",
    "    \"\"\"\n",
    "    time.sleep(3)\n",
    "    print(\"Square: {}\".format(num * num)) \n",
    "    return\n",
    "\n",
    "def print_cube(num): \n",
    "    \"\"\" \n",
    "    function to print cube of given num \n",
    "    \"\"\"\n",
    "    print(\"Cube: {}\".format(num * num * num)) \n",
    "    return"
   ]
  },
  {
   "cell_type": "code",
   "execution_count": 3,
   "metadata": {},
   "outputs": [
    {
     "name": "stdout",
     "output_type": "stream",
     "text": [
      "Cube: 1000\n",
      "Square: 100\n",
      "Done!\n"
     ]
    }
   ],
   "source": [
    "# creating processes \n",
    "p1 = mp.Process(target=print_square, args=(10, )) \n",
    "p2 = mp.Process(target=print_cube, args=(10, )) \n",
    "\n",
    "# starting process 1 \n",
    "p1.start() \n",
    "# starting process 2 \n",
    "p2.start() \n",
    "\n",
    "# wait until process 1 is finished \n",
    "p1.join() \n",
    "# wait until process 2 is finished \n",
    "p2.join() \n",
    "\n",
    "# both processes finished \n",
    "print(\"Done!\") "
   ]
  },
  {
   "cell_type": "code",
   "execution_count": 4,
   "metadata": {},
   "outputs": [
    {
     "name": "stdout",
     "output_type": "stream",
     "text": [
      "[14, 21, 30]\n"
     ]
    }
   ],
   "source": [
    "myList = [[1,2,3],[1,2,4],[1,2,5]]\n",
    "\n",
    "# creating a pool object \n",
    "p = mp.Pool(processes=3)\n",
    "# map list to target function \n",
    "result = p.map(sumSquare, myList) \n",
    "p.close()\n",
    "p.join()\n",
    "\n",
    "\n",
    "print(result) \n"
   ]
  },
  {
   "cell_type": "code",
   "execution_count": null,
   "metadata": {},
   "outputs": [],
   "source": [
    "# This code is here because I considered using processes rather than pool in the CTreeMI code, but decided against\n",
    "# it because it's more complicated to implement and is unlikely to be quicker in my case.\n",
    "\n",
    "from multiprocessing import Process, Queue\n",
    "import random\n",
    "\n",
    "def rand_num(queue):\n",
    "    time.sleep(5)\n",
    "    num = random.random()\n",
    "    queue.put([num,num*num])\n",
    "\n",
    "queue = Queue()\n",
    "\n",
    "processes = [Process(target=rand_num, args=(queue,)) for x in range(4)]\n",
    "\n",
    "for p in processes:\n",
    "    p.start()\n",
    "\n",
    "for p in processes:\n",
    "    p.join()\n",
    "\n",
    "results = [queue.get() for p in processes]\n",
    "\n",
    "print(results)\n"
   ]
  },
  {
   "cell_type": "code",
   "execution_count": null,
   "metadata": {},
   "outputs": [],
   "source": []
  }
 ],
 "metadata": {
  "kernelspec": {
   "display_name": "Python 3",
   "language": "python",
   "name": "python3"
  },
  "language_info": {
   "codemirror_mode": {
    "name": "ipython",
    "version": 3
   },
   "file_extension": ".py",
   "mimetype": "text/x-python",
   "name": "python",
   "nbconvert_exporter": "python",
   "pygments_lexer": "ipython3",
   "version": "3.7.4"
  }
 },
 "nbformat": 4,
 "nbformat_minor": 2
}
