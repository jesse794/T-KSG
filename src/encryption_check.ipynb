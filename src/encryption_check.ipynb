{
 "cells": [
  {
   "cell_type": "code",
   "execution_count": 5,
   "metadata": {},
   "outputs": [],
   "source": [
    "import sys\n",
    "sys.path.append(\"../src\")\n",
    "import math\n",
    "import numpy as np\n",
    "import matplotlib.pyplot as plt\n",
    "import scipy as sp\n",
    "import random\n",
    "import MLP\n",
    "import pyffx"
   ]
  },
  {
   "cell_type": "code",
   "execution_count": 6,
   "metadata": {},
   "outputs": [],
   "source": [
    "def truncate(number, digits) -> float:\n",
    "    \"\"\"truncate an incoming float to a givin number of places beyond the\n",
    "    decimal...\"\"\"\n",
    "    stepper = 10.0 ** digits\n",
    "    return math.trunc(stepper * number) / stepper"
   ]
  },
  {
   "cell_type": "code",
   "execution_count": null,
   "metadata": {},
   "outputs": [],
   "source": [
    "def encFloat(floatValInput, direction):\n",
    "    \"\"\"format preserving encryption/decrytion of float by temporarily\n",
    "    transforming it to an int.\n",
    "\n",
    "    N.B.  This entire function is pretty kludgey to care of cases where\n",
    "    the encrypted or decrypted value either has leading or trailing\n",
    "    zeros.  I think the kludges will only work if the input is >=1.0 and\n",
    "    <10.  If you wanted it to work for larger values, you'd have to: a)\n",
    "    change lengthOfInt from 9 to 10, b) fixup some other problems that\n",
    "    would cause in the code\"\"\"\n",
    "\n",
    "    # confirm that incoming value (for encryption case) is >=1.0 and\n",
    "    # <10.  To handle values outside that range would require\n",
    "    # modifications to this routine.\n",
    "    if (direction == 1 and (not (floatValInput >= 1.0 and floatValInput < 10.0))):\n",
    "        print('input value for encryption outside of allowed range')\n",
    "        sys.exit()\n",
    "\n",
    "    # scale the incoming float\n",
    "    scaleFactor = 1e8\n",
    "    intConvertedValue = int(round((floatValInput * scaleFactor), 0))\n",
    "    # kludge to take care of case where input has trailing zero and so\n",
    "    # would get scaled up by 10.\n",
    "    if (intConvertedValue % 10 == 0 and direction == 1):\n",
    "        intConvertedValue = int(intConvertedValue / 10)\n",
    "\n",
    "    # setup encryption.\n",
    "    lengthOfInt = 9\n",
    "    ec = pyffx.Integer(b'secret-key', length=lengthOfInt)\n",
    "\n",
    "    # do the encryption/decryption\n",
    "    if direction == 1:  # encrypt\n",
    "        transformedInt = ec.encrypt(intConvertedValue)\n",
    "    elif direction == 2:  # decrypt\n",
    "        transformedInt = ec.decrypt(intConvertedValue)\n",
    "    else:  # bad input\n",
    "        print (\"bad input value\")\n",
    "        sys.exit()\n",
    "    # print(transformedInt)\n",
    "\n",
    "    finalResult = float(transformedInt / scaleFactor)\n",
    "    # take care of case where output was shorter int and so gets cut by\n",
    "    # factor of ten when converting back to float.\n",
    "    if (finalResult < 1 and direction == 2):\n",
    "        finalResult *= 10\n",
    "\n",
    "    return finalResult"
   ]
  },
  {
   "cell_type": "code",
   "execution_count": null,
   "metadata": {},
   "outputs": [],
   "source": [
    "def encryptionTest(nEntries):\n",
    "    \"\"\"\n",
    "    Check that round-trip encrypt-decrypt puts all entries in list back\n",
    "    to original values\n",
    "    \"\"\"\n",
    "    # Make random list\n",
    "    x = [np.random.uniform(5.0, 6.0, 1)[0] for i in range(nEntries)]\n",
    "    # define encryption function and encrypt the list\n",
    "    ec = pyffx.Integer(b'secret-key', length=4)\n",
    "    x_enc = [encFloat(i, 1) for i in x]\n",
    "    # now decrypt the encrypted list\n",
    "    x_dec = [encFloat(i, 2) for i in x_enc]\n",
    "    # now get the diff between original and encrypted lists entry by\n",
    "    # entry\n",
    "    enc_dec_diff = [x[i] - x_dec[i] for i in range(len(x_enc))]\n",
    "\n",
    "    # max value of the entry-by-entry diff should be zero, or at least\n",
    "    # should be pretty small (rounding will likely prevent it from being\n",
    "    # zero)\n",
    "    return max(enc_dec_diff)"
   ]
  },
  {
   "cell_type": "code",
   "execution_count": 10,
   "metadata": {},
   "outputs": [
    {
     "name": "stdout",
     "output_type": "stream",
     "text": [
      "running check to confirm that encryption routine is working\n",
      "results of encryption round-trip check (should be << 1.0)= 4.4860266612545274e-09\n",
      "computing MI before encryption, after encryption, and after decryption\n",
      "originalMI= 1.0000360682778138 encryptedMI= 0.34103409277175545 decryptedMI= 1.0000360682778138\n"
     ]
    }
   ],
   "source": [
    "# number of each event type to generate\n",
    "nEvents = 10000\n",
    "\n",
    "# Generate signal and background events, and fill answer arrays\n",
    "vars_sig = [[np.random.uniform(5.0, 6.0, 1)[0]] for i in range(nEvents)]\n",
    "ans_sig = [[1.0] for i in range(nEvents)]\n",
    "vars_bkd = [[np.random.uniform(6.2, 7.2, 1)[0]] for i in range(nEvents)]\n",
    "ans_bkd = [[-1.0] for i in range(nEvents)]\n",
    "\n",
    "# merge sig and bkd events into single lists\n",
    "vars_merged = np.concatenate((vars_sig, vars_bkd), axis=0)\n",
    "ans_merged = np.concatenate((ans_sig, ans_bkd), axis=0)\n",
    "\n",
    "# truncate to fixed precision\n",
    "vars_mergedTrunc = [[truncate(i[0], 8)] for i in vars_merged]\n",
    "\n",
    "# compute MI\n",
    "originalMI = MLP.mi_binary(vars_mergedTrunc, ans_merged, 1, 2)\n",
    "\n",
    "# encrypt the vars\n",
    "vars_enc = [[encFloat(i[0], 1)] for i in vars_mergedTrunc]\n",
    "\n",
    "# decrypt the encrypted list so you can check that MI retuerns to\n",
    "# original value\n",
    "vars_dec = [[encFloat(i[0], 2)] for i in vars_enc]\n",
    "\n",
    "# compute MI using encrypted vars\n",
    "encryptedMI = MLP.mi_binary(vars_enc, ans_merged, 1, 2)\n",
    "\n",
    "# compute MI using decrypted vars to confirm that it returns to original\n",
    "# value\n",
    "decryptedMI = MLP.mi_binary(vars_dec, ans_merged, 1, 2)\n",
    "\n",
    "print(\"running check to confirm that encryption routine is working\")\n",
    "print(\"results of encryption round-trip check (should be << 1.0)=\", encryptionTest(10))\n",
    "print(\"computing MI before encryption, after encryption, and after decryption\")\n",
    "print(\"originalMI=\", originalMI, \"encryptedMI=\", encryptedMI, \"decryptedMI=\", decryptedMI)"
   ]
  }
 ],
 "metadata": {
  "jupytext": {
   "formats": "ipynb,py:light"
  },
  "kernelspec": {
   "display_name": "Python 3",
   "language": "python",
   "name": "python3"
  },
  "language_info": {
   "codemirror_mode": {
    "name": "ipython",
    "version": 3
   },
   "file_extension": ".py",
   "mimetype": "text/x-python",
   "name": "python",
   "nbconvert_exporter": "python",
   "pygments_lexer": "ipython3",
   "version": "3.7.4"
  }
 },
 "nbformat": 4,
 "nbformat_minor": 2
}
