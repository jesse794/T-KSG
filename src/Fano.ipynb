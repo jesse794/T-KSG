{
 "cells": [
  {
   "cell_type": "code",
   "execution_count": 1,
   "id": "e6912232-151f-41bb-9f35-6cc05b63499d",
   "metadata": {
    "execution": {
     "iopub.execute_input": "2022-05-27T22:45:23.477995Z",
     "iopub.status.busy": "2022-05-27T22:45:23.477743Z",
     "iopub.status.idle": "2022-05-27T22:45:30.881207Z",
     "shell.execute_reply": "2022-05-27T22:45:30.880224Z",
     "shell.execute_reply.started": "2022-05-27T22:45:23.477938Z"
    },
    "tags": []
   },
   "outputs": [
    {
     "data": {
      "image/png": "[encoded data removed]",
      "text/plain": [
       "<Figure size 432x288 with 1 Axes>"
      ]
     },
     "metadata": {
      "needs_background": "light"
     },
     "output_type": "display_data"
    }
   ],
   "source": [
    "import numpy as np\n",
    "import matplotlib.pyplot as plt\n",
    "from scipy import interpolate\n",
    "import math\n",
    "\n",
    "def h2(p):\n",
    "    \"\"\"Binary Shannon Entropy\"\"\"\n",
    "    entropy = -p*math.log(p,2) - (1-p)*math.log(1-p,2)\n",
    "    return entropy\n",
    "\n",
    "# Make a list of p values and a list of corresponding h2 values\n",
    "plist = np.arange(0.0001, 0.5, 0.0001 )\n",
    "hlist = [h2(p) for p in plist]\n",
    "# plt.plot(hlist, plist)\n",
    "# plt.show()\n",
    "\n",
    "# Make an interpolating function but make hlist the argument and plist the dependent\n",
    "# value.  So then this interpolating function becomes a quick-n-dirty inverse of h2\n",
    "# h2inv will take an argument that's an h2 value, and return the corresponding p value\n",
    "h2inv = interpolate.interp1d(hlist, plist)\n",
    "# x = np.linspace(0.0015, 0.9999, 10000)\n",
    "# plt.plot(x,h2inv(x))\n",
    "# plt.show()\n",
    "\n",
    "def errProbLoBound(mi):\n",
    "    \"\"\"Given an mi value, this returns the Fano-limit lower bound on the probability of a classification error.  Note that this uses\n",
    "    the inverse of h2.  Descriptions/derivations of the Fano inequality seem to use h2, but that makes no sense to me.  \n",
    "    I'm pretty sure it should be the inverse of h2\"\"\"\n",
    "    return h2inv(1 - mi)\n",
    "\n",
    "def errProbUpBound(mi):\n",
    "    \"\"\"Given an mi value, this returns the Hellman-Raviv upper bound on the probability of a classification error\"\"\"\n",
    "    return (1 - mi)/2.0\n",
    "\n",
    "def printBounds(mi):\n",
    "    print(\"results for MI = \", mi)\n",
    "    print(\"bounds on error = (\", round(100*float(errProbLoBound(mi)),2), \", \", round(100*float(errProbUpBound(mi)),2),\")\")\n",
    "    print(\"bounds on accuracy = (\",round(100*float(1-errProbUpBound(mi)),2) , \", \", round(100*float(1-errProbLoBound(mi)),2),\")\")\n",
    "\n",
    "    \n",
    "x = np.linspace(0.0015, 0.99, 10000)\n",
    "plt.plot(x,errProbLoBound(x))\n",
    "plt.plot(x,errProbUpBound(x))\n",
    "plt.show()"
   ]
  },
  {
   "cell_type": "code",
   "execution_count": 58,
   "id": "bb09ba32-1ca2-4259-9a56-9e365a190736",
   "metadata": {
    "execution": {
     "iopub.execute_input": "2022-03-30T20:20:24.702756Z",
     "iopub.status.busy": "2022-03-30T20:20:24.702362Z",
     "iopub.status.idle": "2022-03-30T20:20:24.707569Z",
     "shell.execute_reply": "2022-03-30T20:20:24.706924Z",
     "shell.execute_reply.started": "2022-03-30T20:20:24.702729Z"
    },
    "lines_to_next_cell": 0,
    "tags": []
   },
   "outputs": [
    {
     "name": "stdout",
     "output_type": "stream",
     "text": [
      "results for MI =  0.534\n",
      "bounds on error = ( 9.91 ,  23.3 )\n",
      "bounds on accuracy = ( 76.7 ,  90.09 )\n",
      "results for MI =  0.541\n",
      "bounds on error = ( 9.69 ,  22.95 )\n",
      "bounds on accuracy = ( 77.05 ,  90.31 )\n"
     ]
    }
   ],
   "source": [
    "printBounds(0.534) # Top score from out tree-search code\n",
    "\n",
    "printBounds(0.541) # Est. top score from Melis, which likely includes additional derived variables"
   ]
  },
  {
   "cell_type": "code",
   "execution_count": null,
   "id": "11673c58-49dd-437f-9a30-e9e86fcb9069",
   "metadata": {
    "lines_to_next_cell": 2
   },
   "outputs": [],
   "source": []
  }
 ],
 "metadata": {
  "jupytext": {
   "formats": "ipynb,py:light"
  },
  "kernelspec": {
   "display_name": "Python 3 (ipykernel)",
   "language": "python",
   "name": "python3"
  },
  "language_info": {
   "codemirror_mode": {
    "name": "ipython",
    "version": 3
   },
   "file_extension": ".py",
   "mimetype": "text/x-python",
   "name": "python",
   "nbconvert_exporter": "python",
   "pygments_lexer": "ipython3",
   "version": "3.10.2"
  }
 },
 "nbformat": 4,
 "nbformat_minor": 5
}
